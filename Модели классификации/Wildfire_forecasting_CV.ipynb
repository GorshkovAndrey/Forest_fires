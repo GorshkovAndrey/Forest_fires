{
 "cells": [
  {
   "cell_type": "code",
   "execution_count": 1,
   "id": "1971ad9e-7a32-4669-82f4-b19c7ab21e97",
   "metadata": {},
   "outputs": [],
   "source": [
    "import matplotlib.pyplot as plt\n",
    "import numpy as np\n",
    "import pandas as pd\n",
    "import random\n",
    "import seaborn as sns\n",
    "import optuna\n",
    "import logging\n",
    "import warnings\n",
    "warnings.filterwarnings('ignore')\n",
    "\n",
    "from imblearn.over_sampling import RandomOverSampler, SMOTE\n",
    "from imblearn.under_sampling import RandomUnderSampler\n",
    "from sklearn.model_selection import train_test_split, StratifiedKFold, cross_val_score\n",
    "from sklearn.preprocessing import StandardScaler, MinMaxScaler, MaxAbsScaler, RobustScaler\n",
    "from catboost import CatBoostClassifier\n",
    "from lightgbm import LGBMClassifier\n",
    "from xgboost import XGBClassifier\n",
    "from sklearn.metrics import accuracy_score, precision_score, recall_score, f1_score, roc_auc_score, roc_curve, confusion_matrix\n",
    "from sklearn.metrics import ConfusionMatrixDisplay, RocCurveDisplay\n",
    "\n",
    "%matplotlib inline"
   ]
  },
  {
   "cell_type": "markdown",
   "id": "5c3581d8",
   "metadata": {},
   "source": [
    "### 1. Фиксация генератора случайных чисел"
   ]
  },
  {
   "cell_type": "code",
   "execution_count": 2,
   "id": "04db19c2",
   "metadata": {},
   "outputs": [],
   "source": [
    "seed = 1920  # 1982 1920 1910 2000 1902\n",
    "np.random.seed(seed)\n",
    "random.seed(seed)"
   ]
  },
  {
   "cell_type": "markdown",
   "id": "c68a7588",
   "metadata": {},
   "source": [
    "### 2. Загрузка датасета"
   ]
  },
  {
   "cell_type": "code",
   "execution_count": 3,
   "id": "1ace5044",
   "metadata": {},
   "outputs": [
    {
     "data": {
      "text/plain": [
       "(8166, 22)"
      ]
     },
     "execution_count": 3,
     "metadata": {},
     "output_type": "execute_result"
    }
   ],
   "source": [
    "df = pd.read_excel(\"C:\\Datasets/10_fire_dataset_bin.xlsx\")\n",
    "df.shape"
   ]
  },
  {
   "cell_type": "code",
   "execution_count": 4,
   "id": "9e4936d9-8276-4710-bc4a-a358742db914",
   "metadata": {},
   "outputs": [
    {
     "data": {
      "text/html": [
       "<div>\n",
       "<style scoped>\n",
       "    .dataframe tbody tr th:only-of-type {\n",
       "        vertical-align: middle;\n",
       "    }\n",
       "\n",
       "    .dataframe tbody tr th {\n",
       "        vertical-align: top;\n",
       "    }\n",
       "\n",
       "    .dataframe thead th {\n",
       "        text-align: right;\n",
       "    }\n",
       "</style>\n",
       "<table border=\"1\" class=\"dataframe\">\n",
       "  <thead>\n",
       "    <tr style=\"text-align: right;\">\n",
       "      <th></th>\n",
       "      <th>Unnamed: 0</th>\n",
       "      <th>area</th>\n",
       "      <th>lon</th>\n",
       "      <th>lat</th>\n",
       "      <th>Dist_str</th>\n",
       "      <th>Dist_railw</th>\n",
       "      <th>Dist_car</th>\n",
       "      <th>T</th>\n",
       "      <th>Po</th>\n",
       "      <th>P</th>\n",
       "      <th>...</th>\n",
       "      <th>DD</th>\n",
       "      <th>Ff</th>\n",
       "      <th>N</th>\n",
       "      <th>WW</th>\n",
       "      <th>Cl</th>\n",
       "      <th>Nh</th>\n",
       "      <th>H</th>\n",
       "      <th>Cm</th>\n",
       "      <th>VV</th>\n",
       "      <th>Td</th>\n",
       "    </tr>\n",
       "  </thead>\n",
       "  <tbody>\n",
       "    <tr>\n",
       "      <th>0</th>\n",
       "      <td>2017-09-24 10:00:00</td>\n",
       "      <td>0</td>\n",
       "      <td>0.0</td>\n",
       "      <td>0.0</td>\n",
       "      <td>0.0</td>\n",
       "      <td>0.0</td>\n",
       "      <td>0.0</td>\n",
       "      <td>9.4</td>\n",
       "      <td>761.9</td>\n",
       "      <td>774.8</td>\n",
       "      <td>...</td>\n",
       "      <td>Ветер, дующий с востока</td>\n",
       "      <td>2</td>\n",
       "      <td>100%.</td>\n",
       "      <td>NaN</td>\n",
       "      <td>Слоисто-кучевые, образовавшиеся не из кучевых.</td>\n",
       "      <td>50%.</td>\n",
       "      <td>600-1000</td>\n",
       "      <td>Высококучевые просвечивающие, расположенные на...</td>\n",
       "      <td>10.0</td>\n",
       "      <td>4.3</td>\n",
       "    </tr>\n",
       "    <tr>\n",
       "      <th>1</th>\n",
       "      <td>2017-09-24 13:00:00</td>\n",
       "      <td>0</td>\n",
       "      <td>0.0</td>\n",
       "      <td>0.0</td>\n",
       "      <td>0.0</td>\n",
       "      <td>0.0</td>\n",
       "      <td>0.0</td>\n",
       "      <td>11.7</td>\n",
       "      <td>762.4</td>\n",
       "      <td>775.2</td>\n",
       "      <td>...</td>\n",
       "      <td>Ветер, дующий с северо-северо-востока</td>\n",
       "      <td>3</td>\n",
       "      <td>70 – 80%.</td>\n",
       "      <td>NaN</td>\n",
       "      <td>Слоисто-кучевые, образовавшиеся не из кучевых.</td>\n",
       "      <td>70 – 80%.</td>\n",
       "      <td>600-1000</td>\n",
       "      <td>Высококучевых, высокослоистых или слоисто-дожд...</td>\n",
       "      <td>10.0</td>\n",
       "      <td>3.1</td>\n",
       "    </tr>\n",
       "    <tr>\n",
       "      <th>2</th>\n",
       "      <td>2017-09-24 16:00:00</td>\n",
       "      <td>0</td>\n",
       "      <td>0.0</td>\n",
       "      <td>0.0</td>\n",
       "      <td>0.0</td>\n",
       "      <td>0.0</td>\n",
       "      <td>0.0</td>\n",
       "      <td>11.6</td>\n",
       "      <td>762.7</td>\n",
       "      <td>775.6</td>\n",
       "      <td>...</td>\n",
       "      <td>Ветер, дующий с северо-востока</td>\n",
       "      <td>2</td>\n",
       "      <td>70 – 80%.</td>\n",
       "      <td>NaN</td>\n",
       "      <td>Слоисто-кучевые, образовавшиеся не из кучевых.</td>\n",
       "      <td>70 – 80%.</td>\n",
       "      <td>600-1000</td>\n",
       "      <td>Высококучевых, высокослоистых или слоисто-дожд...</td>\n",
       "      <td>10.0</td>\n",
       "      <td>2.3</td>\n",
       "    </tr>\n",
       "    <tr>\n",
       "      <th>3</th>\n",
       "      <td>2017-09-24 19:00:00</td>\n",
       "      <td>0</td>\n",
       "      <td>0.0</td>\n",
       "      <td>0.0</td>\n",
       "      <td>0.0</td>\n",
       "      <td>0.0</td>\n",
       "      <td>0.0</td>\n",
       "      <td>7.7</td>\n",
       "      <td>763.3</td>\n",
       "      <td>776.4</td>\n",
       "      <td>...</td>\n",
       "      <td>Ветер, дующий с северо-востока</td>\n",
       "      <td>2</td>\n",
       "      <td>70 – 80%.</td>\n",
       "      <td>NaN</td>\n",
       "      <td>Кучево-дождевые лысые с кучевыми, слоисто-куче...</td>\n",
       "      <td>70 – 80%.</td>\n",
       "      <td>600-1000</td>\n",
       "      <td>Высококучевых, высокослоистых или слоисто-дожд...</td>\n",
       "      <td>10.0</td>\n",
       "      <td>1.2</td>\n",
       "    </tr>\n",
       "    <tr>\n",
       "      <th>4</th>\n",
       "      <td>2017-09-24 22:00:00</td>\n",
       "      <td>0</td>\n",
       "      <td>0.0</td>\n",
       "      <td>0.0</td>\n",
       "      <td>0.0</td>\n",
       "      <td>0.0</td>\n",
       "      <td>0.0</td>\n",
       "      <td>6.1</td>\n",
       "      <td>763.6</td>\n",
       "      <td>773.7</td>\n",
       "      <td>...</td>\n",
       "      <td>Ветер, дующий с севера</td>\n",
       "      <td>1</td>\n",
       "      <td>Облаков нет.</td>\n",
       "      <td>NaN</td>\n",
       "      <td>Кучево-дождевые лысые с кучевыми, слоисто-куче...</td>\n",
       "      <td>70 – 80%.</td>\n",
       "      <td>600-1000</td>\n",
       "      <td>Высококучевых, высокослоистых или слоисто-дожд...</td>\n",
       "      <td>10.0</td>\n",
       "      <td>2.3</td>\n",
       "    </tr>\n",
       "  </tbody>\n",
       "</table>\n",
       "<p>5 rows × 22 columns</p>\n",
       "</div>"
      ],
      "text/plain": [
       "           Unnamed: 0  area  lon  lat  Dist_str  Dist_railw  Dist_car     T  \\\n",
       "0 2017-09-24 10:00:00     0  0.0  0.0       0.0         0.0       0.0   9.4   \n",
       "1 2017-09-24 13:00:00     0  0.0  0.0       0.0         0.0       0.0  11.7   \n",
       "2 2017-09-24 16:00:00     0  0.0  0.0       0.0         0.0       0.0  11.6   \n",
       "3 2017-09-24 19:00:00     0  0.0  0.0       0.0         0.0       0.0   7.7   \n",
       "4 2017-09-24 22:00:00     0  0.0  0.0       0.0         0.0       0.0   6.1   \n",
       "\n",
       "      Po      P  ...                                     DD  Ff             N  \\\n",
       "0  761.9  774.8  ...                Ветер, дующий с востока   2         100%.   \n",
       "1  762.4  775.2  ...  Ветер, дующий с северо-северо-востока   3     70 – 80%.   \n",
       "2  762.7  775.6  ...         Ветер, дующий с северо-востока   2     70 – 80%.   \n",
       "3  763.3  776.4  ...         Ветер, дующий с северо-востока   2     70 – 80%.   \n",
       "4  763.6  773.7  ...                 Ветер, дующий с севера   1  Облаков нет.   \n",
       "\n",
       "    WW                                                 Cl         Nh  \\\n",
       "0  NaN     Слоисто-кучевые, образовавшиеся не из кучевых.       50%.   \n",
       "1  NaN     Слоисто-кучевые, образовавшиеся не из кучевых.  70 – 80%.   \n",
       "2  NaN     Слоисто-кучевые, образовавшиеся не из кучевых.  70 – 80%.   \n",
       "3  NaN  Кучево-дождевые лысые с кучевыми, слоисто-куче...  70 – 80%.   \n",
       "4  NaN  Кучево-дождевые лысые с кучевыми, слоисто-куче...  70 – 80%.   \n",
       "\n",
       "          H                                                 Cm    VV   Td  \n",
       "0  600-1000  Высококучевые просвечивающие, расположенные на...  10.0  4.3  \n",
       "1  600-1000  Высококучевых, высокослоистых или слоисто-дожд...  10.0  3.1  \n",
       "2  600-1000  Высококучевых, высокослоистых или слоисто-дожд...  10.0  2.3  \n",
       "3  600-1000  Высококучевых, высокослоистых или слоисто-дожд...  10.0  1.2  \n",
       "4  600-1000  Высококучевых, высокослоистых или слоисто-дожд...  10.0  2.3  \n",
       "\n",
       "[5 rows x 22 columns]"
      ]
     },
     "execution_count": 4,
     "metadata": {},
     "output_type": "execute_result"
    }
   ],
   "source": [
    "df.head()"
   ]
  },
  {
   "cell_type": "code",
   "execution_count": 5,
   "id": "fd6367ed",
   "metadata": {},
   "outputs": [
    {
     "data": {
      "text/html": [
       "<div>\n",
       "<style scoped>\n",
       "    .dataframe tbody tr th:only-of-type {\n",
       "        vertical-align: middle;\n",
       "    }\n",
       "\n",
       "    .dataframe tbody tr th {\n",
       "        vertical-align: top;\n",
       "    }\n",
       "\n",
       "    .dataframe thead th {\n",
       "        text-align: right;\n",
       "    }\n",
       "</style>\n",
       "<table border=\"1\" class=\"dataframe\">\n",
       "  <thead>\n",
       "    <tr style=\"text-align: right;\">\n",
       "      <th></th>\n",
       "      <th>area</th>\n",
       "      <th>lon</th>\n",
       "      <th>lat</th>\n",
       "      <th>Dist_str</th>\n",
       "      <th>Dist_railw</th>\n",
       "      <th>Dist_car</th>\n",
       "      <th>T</th>\n",
       "      <th>Po</th>\n",
       "      <th>P</th>\n",
       "      <th>Pa</th>\n",
       "      <th>U</th>\n",
       "      <th>Ff</th>\n",
       "      <th>VV</th>\n",
       "      <th>Td</th>\n",
       "    </tr>\n",
       "  </thead>\n",
       "  <tbody>\n",
       "    <tr>\n",
       "      <th>count</th>\n",
       "      <td>8166.000000</td>\n",
       "      <td>8166.000000</td>\n",
       "      <td>8166.000000</td>\n",
       "      <td>8166.000000</td>\n",
       "      <td>8166.000000</td>\n",
       "      <td>8166.000000</td>\n",
       "      <td>8166.000000</td>\n",
       "      <td>8166.000000</td>\n",
       "      <td>8166.000000</td>\n",
       "      <td>8166.000000</td>\n",
       "      <td>8166.000000</td>\n",
       "      <td>8166.000000</td>\n",
       "      <td>8166.000000</td>\n",
       "      <td>8166.000000</td>\n",
       "    </tr>\n",
       "    <tr>\n",
       "      <th>mean</th>\n",
       "      <td>0.051678</td>\n",
       "      <td>2.611662</td>\n",
       "      <td>2.745962</td>\n",
       "      <td>1902.796763</td>\n",
       "      <td>869.270501</td>\n",
       "      <td>30.162300</td>\n",
       "      <td>5.469949</td>\n",
       "      <td>750.730541</td>\n",
       "      <td>763.665711</td>\n",
       "      <td>0.011254</td>\n",
       "      <td>69.344722</td>\n",
       "      <td>1.891134</td>\n",
       "      <td>9.440546</td>\n",
       "      <td>-0.732648</td>\n",
       "    </tr>\n",
       "    <tr>\n",
       "      <th>std</th>\n",
       "      <td>0.221389</td>\n",
       "      <td>11.190458</td>\n",
       "      <td>11.764578</td>\n",
       "      <td>10783.521134</td>\n",
       "      <td>4721.993706</td>\n",
       "      <td>178.232637</td>\n",
       "      <td>11.845542</td>\n",
       "      <td>7.528750</td>\n",
       "      <td>7.882456</td>\n",
       "      <td>0.974373</td>\n",
       "      <td>20.822901</td>\n",
       "      <td>1.025589</td>\n",
       "      <td>2.467542</td>\n",
       "      <td>9.151439</td>\n",
       "    </tr>\n",
       "    <tr>\n",
       "      <th>min</th>\n",
       "      <td>0.000000</td>\n",
       "      <td>0.000000</td>\n",
       "      <td>0.000000</td>\n",
       "      <td>0.000000</td>\n",
       "      <td>0.000000</td>\n",
       "      <td>0.000000</td>\n",
       "      <td>-23.800000</td>\n",
       "      <td>725.600000</td>\n",
       "      <td>738.600000</td>\n",
       "      <td>-22.000000</td>\n",
       "      <td>12.000000</td>\n",
       "      <td>0.000000</td>\n",
       "      <td>0.200000</td>\n",
       "      <td>-26.200000</td>\n",
       "    </tr>\n",
       "    <tr>\n",
       "      <th>25%</th>\n",
       "      <td>0.000000</td>\n",
       "      <td>0.000000</td>\n",
       "      <td>0.000000</td>\n",
       "      <td>0.000000</td>\n",
       "      <td>0.000000</td>\n",
       "      <td>0.000000</td>\n",
       "      <td>-4.000000</td>\n",
       "      <td>745.900000</td>\n",
       "      <td>758.500000</td>\n",
       "      <td>-0.500000</td>\n",
       "      <td>54.000000</td>\n",
       "      <td>1.000000</td>\n",
       "      <td>10.000000</td>\n",
       "      <td>-7.500000</td>\n",
       "    </tr>\n",
       "    <tr>\n",
       "      <th>50%</th>\n",
       "      <td>0.000000</td>\n",
       "      <td>0.000000</td>\n",
       "      <td>0.000000</td>\n",
       "      <td>0.000000</td>\n",
       "      <td>0.000000</td>\n",
       "      <td>0.000000</td>\n",
       "      <td>4.800000</td>\n",
       "      <td>750.800000</td>\n",
       "      <td>763.600000</td>\n",
       "      <td>0.000000</td>\n",
       "      <td>74.000000</td>\n",
       "      <td>2.000000</td>\n",
       "      <td>10.000000</td>\n",
       "      <td>-0.800000</td>\n",
       "    </tr>\n",
       "    <tr>\n",
       "      <th>75%</th>\n",
       "      <td>0.000000</td>\n",
       "      <td>0.000000</td>\n",
       "      <td>0.000000</td>\n",
       "      <td>0.000000</td>\n",
       "      <td>0.000000</td>\n",
       "      <td>0.000000</td>\n",
       "      <td>15.000000</td>\n",
       "      <td>755.400000</td>\n",
       "      <td>768.700000</td>\n",
       "      <td>0.500000</td>\n",
       "      <td>87.000000</td>\n",
       "      <td>3.000000</td>\n",
       "      <td>10.000000</td>\n",
       "      <td>6.600000</td>\n",
       "    </tr>\n",
       "    <tr>\n",
       "      <th>max</th>\n",
       "      <td>1.000000</td>\n",
       "      <td>52.419154</td>\n",
       "      <td>54.624496</td>\n",
       "      <td>139339.388668</td>\n",
       "      <td>53919.346006</td>\n",
       "      <td>3065.928510</td>\n",
       "      <td>36.100000</td>\n",
       "      <td>777.000000</td>\n",
       "      <td>790.900000</td>\n",
       "      <td>25.200000</td>\n",
       "      <td>100.000000</td>\n",
       "      <td>7.000000</td>\n",
       "      <td>50.000000</td>\n",
       "      <td>20.200000</td>\n",
       "    </tr>\n",
       "  </tbody>\n",
       "</table>\n",
       "</div>"
      ],
      "text/plain": [
       "              area          lon          lat       Dist_str    Dist_railw  \\\n",
       "count  8166.000000  8166.000000  8166.000000    8166.000000   8166.000000   \n",
       "mean      0.051678     2.611662     2.745962    1902.796763    869.270501   \n",
       "std       0.221389    11.190458    11.764578   10783.521134   4721.993706   \n",
       "min       0.000000     0.000000     0.000000       0.000000      0.000000   \n",
       "25%       0.000000     0.000000     0.000000       0.000000      0.000000   \n",
       "50%       0.000000     0.000000     0.000000       0.000000      0.000000   \n",
       "75%       0.000000     0.000000     0.000000       0.000000      0.000000   \n",
       "max       1.000000    52.419154    54.624496  139339.388668  53919.346006   \n",
       "\n",
       "          Dist_car            T           Po            P           Pa  \\\n",
       "count  8166.000000  8166.000000  8166.000000  8166.000000  8166.000000   \n",
       "mean     30.162300     5.469949   750.730541   763.665711     0.011254   \n",
       "std     178.232637    11.845542     7.528750     7.882456     0.974373   \n",
       "min       0.000000   -23.800000   725.600000   738.600000   -22.000000   \n",
       "25%       0.000000    -4.000000   745.900000   758.500000    -0.500000   \n",
       "50%       0.000000     4.800000   750.800000   763.600000     0.000000   \n",
       "75%       0.000000    15.000000   755.400000   768.700000     0.500000   \n",
       "max    3065.928510    36.100000   777.000000   790.900000    25.200000   \n",
       "\n",
       "                 U           Ff           VV           Td  \n",
       "count  8166.000000  8166.000000  8166.000000  8166.000000  \n",
       "mean     69.344722     1.891134     9.440546    -0.732648  \n",
       "std      20.822901     1.025589     2.467542     9.151439  \n",
       "min      12.000000     0.000000     0.200000   -26.200000  \n",
       "25%      54.000000     1.000000    10.000000    -7.500000  \n",
       "50%      74.000000     2.000000    10.000000    -0.800000  \n",
       "75%      87.000000     3.000000    10.000000     6.600000  \n",
       "max     100.000000     7.000000    50.000000    20.200000  "
      ]
     },
     "execution_count": 5,
     "metadata": {},
     "output_type": "execute_result"
    }
   ],
   "source": [
    "df.describe()"
   ]
  },
  {
   "cell_type": "code",
   "execution_count": 6,
   "id": "db507a6c",
   "metadata": {},
   "outputs": [
    {
     "data": {
      "text/html": [
       "<div>\n",
       "<style scoped>\n",
       "    .dataframe tbody tr th:only-of-type {\n",
       "        vertical-align: middle;\n",
       "    }\n",
       "\n",
       "    .dataframe tbody tr th {\n",
       "        vertical-align: top;\n",
       "    }\n",
       "\n",
       "    .dataframe thead th {\n",
       "        text-align: right;\n",
       "    }\n",
       "</style>\n",
       "<table border=\"1\" class=\"dataframe\">\n",
       "  <thead>\n",
       "    <tr style=\"text-align: right;\">\n",
       "      <th></th>\n",
       "      <th>DD</th>\n",
       "      <th>N</th>\n",
       "      <th>WW</th>\n",
       "      <th>Cl</th>\n",
       "      <th>Nh</th>\n",
       "      <th>H</th>\n",
       "      <th>Cm</th>\n",
       "    </tr>\n",
       "  </thead>\n",
       "  <tbody>\n",
       "    <tr>\n",
       "      <th>count</th>\n",
       "      <td>8166</td>\n",
       "      <td>8166</td>\n",
       "      <td>2335</td>\n",
       "      <td>8166</td>\n",
       "      <td>8166</td>\n",
       "      <td>8166</td>\n",
       "      <td>8166</td>\n",
       "    </tr>\n",
       "    <tr>\n",
       "      <th>unique</th>\n",
       "      <td>17</td>\n",
       "      <td>10</td>\n",
       "      <td>79</td>\n",
       "      <td>10</td>\n",
       "      <td>9</td>\n",
       "      <td>6</td>\n",
       "      <td>8</td>\n",
       "    </tr>\n",
       "    <tr>\n",
       "      <th>top</th>\n",
       "      <td>Ветер, дующий с запада</td>\n",
       "      <td>100%.</td>\n",
       "      <td>Состояние неба в общем не изменилось.</td>\n",
       "      <td>Слоисто-кучевых, слоистых, кучевых или кучево-...</td>\n",
       "      <td>100%.</td>\n",
       "      <td>600-1000</td>\n",
       "      <td>Высококучевые просвечивающие, расположенные на...</td>\n",
       "    </tr>\n",
       "    <tr>\n",
       "      <th>freq</th>\n",
       "      <td>1511</td>\n",
       "      <td>3395</td>\n",
       "      <td>698</td>\n",
       "      <td>3126</td>\n",
       "      <td>1896</td>\n",
       "      <td>4066</td>\n",
       "      <td>3863</td>\n",
       "    </tr>\n",
       "  </tbody>\n",
       "</table>\n",
       "</div>"
      ],
      "text/plain": [
       "                            DD      N                                     WW  \\\n",
       "count                     8166   8166                                   2335   \n",
       "unique                      17     10                                     79   \n",
       "top     Ветер, дующий с запада  100%.  Состояние неба в общем не изменилось.   \n",
       "freq                      1511   3395                                    698   \n",
       "\n",
       "                                                       Cl     Nh         H  \\\n",
       "count                                                8166   8166      8166   \n",
       "unique                                                 10      9         6   \n",
       "top     Слоисто-кучевых, слоистых, кучевых или кучево-...  100%.  600-1000   \n",
       "freq                                                 3126   1896      4066   \n",
       "\n",
       "                                                       Cm  \n",
       "count                                                8166  \n",
       "unique                                                  8  \n",
       "top     Высококучевые просвечивающие, расположенные на...  \n",
       "freq                                                 3863  "
      ]
     },
     "execution_count": 6,
     "metadata": {},
     "output_type": "execute_result"
    }
   ],
   "source": [
    "df.describe(include='object')"
   ]
  },
  {
   "cell_type": "markdown",
   "id": "7e4aa8de",
   "metadata": {},
   "source": [
    "Проверка сбалансированности классов"
   ]
  },
  {
   "cell_type": "code",
   "execution_count": 7,
   "id": "98d5a8be",
   "metadata": {},
   "outputs": [
    {
     "name": "stdout",
     "output_type": "stream",
     "text": [
      "Число элементов, равных 0: 7744\n",
      "Число элементов, равных 1: 422\n"
     ]
    }
   ],
   "source": [
    "count_0 = np.bincount(df['area'])[0]\n",
    "count_1 = np.bincount(df['area'])[1]\n",
    "\n",
    "print(f\"Число элементов, равных 0: {count_0}\")\n",
    "print(f\"Число элементов, равных 1: {count_1}\")"
   ]
  },
  {
   "cell_type": "markdown",
   "id": "2af501a9",
   "metadata": {},
   "source": [
    "Редактирование столбца \"Unnamed: 0\" - остается только month (месяц), тип данных заменяется на object"
   ]
  },
  {
   "cell_type": "code",
   "execution_count": 8,
   "id": "fe27b7c1",
   "metadata": {},
   "outputs": [],
   "source": [
    "df['Unnamed: 0'] = df['Unnamed: 0'].dt.month\n",
    "df.rename({'Unnamed: 0': 'Month'}, axis=1, inplace=True)\n",
    "df.head()\n",
    "df['Month'] = df['Month'].astype('object')"
   ]
  },
  {
   "cell_type": "markdown",
   "id": "3d0d5185",
   "metadata": {},
   "source": [
    "Распределение числа пожаров по месяцам"
   ]
  },
  {
   "cell_type": "code",
   "execution_count": 9,
   "id": "7634cea3",
   "metadata": {},
   "outputs": [
    {
     "data": {
      "image/png": "[encoded data removed]",
      "text/plain": [
       "<Figure size 640x480 with 1 Axes>"
      ]
     },
     "metadata": {},
     "output_type": "display_data"
    },
    {
     "name": "stdout",
     "output_type": "stream",
     "text": [
      "Число пожаров по месяцам (всего пожаров - 422):\n"
     ]
    },
    {
     "data": {
      "text/html": [
       "<div>\n",
       "<style scoped>\n",
       "    .dataframe tbody tr th:only-of-type {\n",
       "        vertical-align: middle;\n",
       "    }\n",
       "\n",
       "    .dataframe tbody tr th {\n",
       "        vertical-align: top;\n",
       "    }\n",
       "\n",
       "    .dataframe thead th {\n",
       "        text-align: right;\n",
       "    }\n",
       "</style>\n",
       "<table border=\"1\" class=\"dataframe\">\n",
       "  <thead>\n",
       "    <tr style=\"text-align: right;\">\n",
       "      <th></th>\n",
       "      <th>1</th>\n",
       "      <th>2</th>\n",
       "      <th>3</th>\n",
       "      <th>4</th>\n",
       "      <th>5</th>\n",
       "      <th>6</th>\n",
       "      <th>7</th>\n",
       "      <th>8</th>\n",
       "      <th>9</th>\n",
       "      <th>10</th>\n",
       "      <th>11</th>\n",
       "      <th>12</th>\n",
       "    </tr>\n",
       "  </thead>\n",
       "  <tbody>\n",
       "    <tr>\n",
       "      <th>0</th>\n",
       "      <td>0</td>\n",
       "      <td>0</td>\n",
       "      <td>28</td>\n",
       "      <td>211</td>\n",
       "      <td>8</td>\n",
       "      <td>15</td>\n",
       "      <td>5</td>\n",
       "      <td>28</td>\n",
       "      <td>46</td>\n",
       "      <td>58</td>\n",
       "      <td>21</td>\n",
       "      <td>2</td>\n",
       "    </tr>\n",
       "  </tbody>\n",
       "</table>\n",
       "</div>"
      ],
      "text/plain": [
       "   1   2   3    4   5   6   7   8   9   10  11  12\n",
       "0   0   0  28  211   8  15   5  28  46  58  21   2"
      ]
     },
     "execution_count": 9,
     "metadata": {},
     "output_type": "execute_result"
    }
   ],
   "source": [
    "df_0 = df[df['area']==0]\n",
    "df_1 = df[df['area']==1]\n",
    "sns.countplot(data=df_1, x=\"Month\", palette='viridis')\n",
    "plt.show()\n",
    "\n",
    "count = [len(df_1[df_1['Month']==k]) for k in range(1, 13)]\n",
    "df_count = pd.DataFrame([count], columns=range(1, 13))\n",
    "print(f'Число пожаров по месяцам (всего пожаров - {len(df_1)}):')\n",
    "df_count"
   ]
  },
  {
   "cell_type": "markdown",
   "id": "5ddbd462",
   "metadata": {},
   "source": [
    "### 3. Feature engineering"
   ]
  },
  {
   "cell_type": "code",
   "execution_count": 10,
   "id": "d6baa8ba",
   "metadata": {},
   "outputs": [
    {
     "data": {
      "image/png": "[encoded data removed]",
      "text/plain": [
       "<Figure size 900x700 with 2 Axes>"
      ]
     },
     "metadata": {},
     "output_type": "display_data"
    }
   ],
   "source": [
    "plt.figure(figsize=(9, 7))\n",
    "sns.heatmap(df.corr(method='spearman').round(2), annot=True)\n",
    "plt.show()"
   ]
  },
  {
   "cell_type": "markdown",
   "id": "7659bc6e-ac32-4913-a28f-23ecb5472424",
   "metadata": {},
   "source": [
    "Удаление коррелированных признаков"
   ]
  },
  {
   "cell_type": "code",
   "execution_count": 11,
   "id": "52474a91-4ae0-45b6-bfe9-025a2f16e612",
   "metadata": {},
   "outputs": [],
   "source": [
    "df = df.drop(columns=['lon', 'lat', 'Dist_railw', 'Dist_str', 'Dist_car', 'Po', 'Td'])"
   ]
  },
  {
   "cell_type": "markdown",
   "id": "7af547dd-d3a7-4dde-88af-226464fdcdb1",
   "metadata": {},
   "source": [
    "Удаление части категориальных признаков, кодирование оставшихся"
   ]
  },
  {
   "cell_type": "code",
   "execution_count": 12,
   "id": "64087f77-1608-473c-ae74-07c81d9dcf53",
   "metadata": {},
   "outputs": [
    {
     "data": {
      "text/plain": [
       "(8166, 121)"
      ]
     },
     "execution_count": 12,
     "metadata": {},
     "output_type": "execute_result"
    }
   ],
   "source": [
    "df = df.drop(['Cl', 'Nh', 'H', 'Cm'], axis=1)\n",
    "df = pd.get_dummies(data=df, prefix='cat_', drop_first=True)\n",
    "df.shape"
   ]
  },
  {
   "cell_type": "markdown",
   "id": "aca8fb4c-aa6a-4605-93da-4a0d1f88465e",
   "metadata": {},
   "source": [
    "Коэф. корреляции признаков с целевой переменной area"
   ]
  },
  {
   "cell_type": "code",
   "execution_count": 13,
   "id": "f285315a-e1aa-4282-b497-f8757aa9905e",
   "metadata": {
    "tags": []
   },
   "outputs": [
    {
     "data": {
      "text/plain": [
       "area                                          1.000\n",
       "cat__4                                        0.296\n",
       "cat__Облаков нет.                             0.126\n",
       "cat__Ветер, дующий с северо-востока           0.121\n",
       "cat__Ветер, дующий с севера                   0.083\n",
       "                                              ...  \n",
       "cat__Состояние неба в общем не изменилось.   -0.059\n",
       "cat__2                                       -0.067\n",
       "cat__12                                      -0.072\n",
       "cat__100%.                                   -0.102\n",
       "U                                            -0.149\n",
       "Length: 121, dtype: float64"
      ]
     },
     "execution_count": 13,
     "metadata": {},
     "output_type": "execute_result"
    }
   ],
   "source": [
    "df.corrwith(df.area).sort_values(ascending=False).round(3) # ascending=False - это сортировка по убыванию"
   ]
  },
  {
   "cell_type": "markdown",
   "id": "d042fd34-4aec-4e51-a45c-751ff71648ec",
   "metadata": {},
   "source": [
    "Удаление признаков с низким коэф. корреляции"
   ]
  },
  {
   "cell_type": "code",
   "execution_count": 14,
   "id": "86a42431-afd2-4ee6-971f-c93460b188f1",
   "metadata": {},
   "outputs": [
    {
     "name": "stdout",
     "output_type": "stream",
     "text": [
      "Удаляемые признаки:\n"
     ]
    },
    {
     "data": {
      "text/plain": [
       "cat__Ветер, дующий с востоко-северо-востока                                         0.018\n",
       "cat__Штиль, безветрие                                                               0.018\n",
       "cat__40%.                                                                           0.017\n",
       "cat__70 – 80%.                                                                      0.015\n",
       "cat__Снег непрерывный умеренный в срок наблюдения.                                 -0.000\n",
       "                                                                                    ...  \n",
       "cat__Небо не видно из-за тумана и/или других метеорологических явлений.            -0.018\n",
       "cat__Ливневый(ые) дождь(и) слабый(ые) в срок наблюдения или за последний час.      -0.019\n",
       "cat__Слабый или умеренный поземок в целом низкий (ниже уровня глаз наблюдателя).   -0.021\n",
       "cat__Дождь незамерзающий непрерывный слабый в срок наблюдения.                     -0.022\n",
       "cat__Ливневый(ые) дождь(и).                                                        -0.023\n",
       "Length: 88, dtype: float64"
      ]
     },
     "execution_count": 14,
     "metadata": {},
     "output_type": "execute_result"
    }
   ],
   "source": [
    "coeff_cor_min = 0.025\n",
    "\n",
    "features_low = [i for i in df.columns if df.corrwith(df.area).abs()[i] < coeff_cor_min]\n",
    "print(\"Удаляемые признаки:\")\n",
    "df[features_low].corrwith(df.area).sort_values(ascending=False).round(3)"
   ]
  },
  {
   "cell_type": "markdown",
   "id": "98f8f2ac",
   "metadata": {},
   "source": [
    "Оставшиеся признаки для обучения моделей"
   ]
  },
  {
   "cell_type": "code",
   "execution_count": 15,
   "id": "13d9da69-2321-4ae8-9cfb-026e6045b89f",
   "metadata": {},
   "outputs": [
    {
     "name": "stdout",
     "output_type": "stream",
     "text": [
      "Оставшиеся признаки:\n"
     ]
    },
    {
     "data": {
      "text/plain": [
       "area                                          1.000\n",
       "cat__4                                        0.296\n",
       "cat__Облаков нет.                             0.126\n",
       "cat__Ветер, дующий с северо-востока           0.121\n",
       "cat__Ветер, дующий с севера                   0.083\n",
       "cat__Ветер, дующий с северо-северо-востока    0.077\n",
       "Pa                                            0.072\n",
       "cat__60%.                                     0.053\n",
       "cat__Ветер, дующий с северо-северо-запада     0.051\n",
       "T                                             0.046\n",
       "VV                                            0.035\n",
       "cat__9                                        0.029\n",
       "P                                             0.027\n",
       "cat__10                                       0.026\n",
       "cat__Дымка.                                  -0.027\n",
       "cat__Ветер, дующий с западо-северо-запада    -0.028\n",
       "cat__6                                       -0.028\n",
       "cat__Ветер, дующий с юго-востока             -0.029\n",
       "cat__90  или более, но не 100%               -0.031\n",
       "cat__11                                      -0.036\n",
       "cat__Ветер, дующий с юго-юго-запада          -0.038\n",
       "cat__Ветер, дующий с северо-запада           -0.040\n",
       "cat__Ветер, дующий с востоко-юго-востока     -0.042\n",
       "cat__20–30%.                                 -0.043\n",
       "cat__5                                       -0.048\n",
       "cat__Ветер, дующий с западо-юго-запада       -0.050\n",
       "cat__7                                       -0.051\n",
       "Ff                                           -0.054\n",
       "cat__Состояние неба в общем не изменилось.   -0.059\n",
       "cat__2                                       -0.067\n",
       "cat__12                                      -0.072\n",
       "cat__100%.                                   -0.102\n",
       "U                                            -0.149\n",
       "dtype: float64"
      ]
     },
     "execution_count": 15,
     "metadata": {},
     "output_type": "execute_result"
    }
   ],
   "source": [
    "df = df.drop(features_low, axis=1)\n",
    "X = df.copy()\n",
    "y = X.pop(\"area\")\n",
    "X = X.values\n",
    "y = y.values\n",
    "\n",
    "print('Оставшиеся признаки:')\n",
    "df.corrwith(df.area).sort_values(ascending=False).round(3) # ascending=False - это сортировка по убыванию"
   ]
  },
  {
   "cell_type": "markdown",
   "id": "f5ad925c-7996-4f33-bb39-253e47cff1cb",
   "metadata": {},
   "source": [
    "### 4. Разбиение датасета на train и test, масштабирование признаков"
   ]
  },
  {
   "cell_type": "code",
   "execution_count": 16,
   "id": "990f940d-f7ad-429e-9316-5b766562d364",
   "metadata": {},
   "outputs": [
    {
     "name": "stdout",
     "output_type": "stream",
     "text": [
      "Число элементов, равных 0: 5421\n",
      "Число элементов, равных 1: 295\n"
     ]
    }
   ],
   "source": [
    "X_train, X_test, y_train, y_test = train_test_split(X, \n",
    "                                                    y,\n",
    "                                                    stratify=y, \n",
    "                                                    test_size=0.3,\n",
    "                                                    random_state=seed)\n",
    "sc = StandardScaler() # RobustScaler() StandardScaler()\n",
    "X_train_std = sc.fit_transform(X_train)\n",
    "X_test_std = sc.transform(X_test)\n",
    "\n",
    "count_0 = np.bincount(y_train)[0]\n",
    "count_1 = np.bincount(y_train)[1]\n",
    "\n",
    "print(f\"Число элементов, равных 0: {count_0}\")\n",
    "print(f\"Число элементов, равных 1: {count_1}\")"
   ]
  },
  {
   "cell_type": "markdown",
   "id": "81f9c9e6-1d4b-4898-af7f-964ba996b20f",
   "metadata": {},
   "source": [
    "### 5. Параметры OPTUNA, обучение моделей с кросс-валидацией и балансировкой классов"
   ]
  },
  {
   "cell_type": "code",
   "execution_count": 17,
   "id": "e6561ae0-262d-4f53-9fc2-8ba46e0fefa7",
   "metadata": {},
   "outputs": [
    {
     "name": "stdout",
     "output_type": "stream",
     "text": [
      "Лучший классификатор: LGBMClassifier\n",
      "Лучшие параметры: {'classifier': 'LGBMClassifier', 'learning_rate': 0.09423573592689553, 'max_depth': 8, 'min_child_samples': 6, 'n_estimators': 1000}\n",
      "Число верно классифицированных случаев: 2406 из 2450\n"
     ]
    }
   ],
   "source": [
    "# Установка уровня журналирования для Optuna\n",
    "optuna.logging.set_verbosity(optuna.logging.ERROR)\n",
    "\n",
    "# Кросс-валидация с балансировкой классов\n",
    "kf = StratifiedKFold(n_splits=10, shuffle=True, random_state=seed)\n",
    "balancer = RandomOverSampler(random_state=seed)\n",
    "# balancer = SMOTE(random_state = seed)\n",
    "# balancer = RandomUnderSampler(random_state = seed)\n",
    "\n",
    "# Список классификаторов для перебора\n",
    "classifiers = [CatBoostClassifier, LGBMClassifier, XGBClassifier]\n",
    "\n",
    "# Функция для оптимизации гиперпараметров с помощью Optuna\n",
    "def objective(trial):\n",
    "    classifier_name = trial.suggest_categorical('classifier', ['CatBoostClassifier', 'LGBMClassifier', 'XGBClassifier'])\n",
    "\n",
    "    if classifier_name == 'CatBoostClassifier':\n",
    "        learning_rate = trial.suggest_loguniform('learning_rate', 0.01, 0.1)\n",
    "        max_depth = trial.suggest_int('max_depth', 3, 10)\n",
    "        min_data_in_leaf = trial.suggest_int('min_data_in_leaf', 3, 10)\n",
    "        n_estimators = trial.suggest_int('n_estimators', 100, 1000, step=50)\n",
    "        classifier = CatBoostClassifier(learning_rate=learning_rate, max_depth=max_depth, min_data_in_leaf=min_data_in_leaf, \n",
    "                                        n_estimators=n_estimators, random_state=seed, silent=True)\n",
    "\n",
    "    elif classifier_name == 'LGBMClassifier':\n",
    "        learning_rate = trial.suggest_loguniform('learning_rate', 0.01, 0.1)\n",
    "        max_depth = trial.suggest_int('max_depth', 3, 10)\n",
    "        min_child_samples = trial.suggest_int('min_child_samples', 3, 10)\n",
    "        n_estimators = trial.suggest_int('n_estimators', 100, 1000, step=50)\n",
    "        classifier = LGBMClassifier(learning_rate=learning_rate, max_depth=max_depth, min_child_samples=min_child_samples, \n",
    "                                    n_estimators=n_estimators, random_state=seed, silent=True)\n",
    "\n",
    "    elif classifier_name == 'XGBClassifier':\n",
    "        learning_rate = trial.suggest_loguniform('learning_rate', 0.01, 0.1)\n",
    "        max_depth = trial.suggest_int('max_depth', 3, 10)\n",
    "        min_child_weight = trial.suggest_int('min_child_weight', 3, 10)\n",
    "        n_estimators = trial.suggest_int('n_estimators', 100, 1000, step=50)\n",
    "        classifier = XGBClassifier(learning_rate=learning_rate, max_depth=max_depth, min_child_weight=min_child_weight, \n",
    "                                   n_estimators=n_estimators, random_state=seed)\n",
    "        \n",
    "    # Кросс-валидация\n",
    "    roc_auc_scores = []\n",
    "    for train_idx, val_idx in kf.split(X_train_std, y_train):\n",
    "        X_train_fold, y_train_fold = X_train_std[train_idx], y_train[train_idx]\n",
    "        X_val_fold, y_val_fold = X_train_std[val_idx], y_train[val_idx]\n",
    "        \n",
    "        # Применение бансировки классов только к обучающим фолдам\n",
    "        X_train_fold_resampled, y_train_fold_resampled = balancer.fit_resample(X_train_fold, y_train_fold)\n",
    "        \n",
    "        # Обучение модели\n",
    "        classifier.fit(X_train_fold_resampled, y_train_fold_resampled)\n",
    "        \n",
    "        # Оценка модели на валидационном фолде\n",
    "        y_pred_fold = classifier.predict(X_val_fold)\n",
    "        roc_auc_scores.append(roc_auc_score(y_val_fold, y_pred_fold))\n",
    "    \n",
    "    # Усредненная оценка ROC AUC по фолдам\n",
    "    roc_auc_mean = np.mean(roc_auc_scores)\n",
    "    return roc_auc_mean\n",
    "\n",
    "# Создание и оптимизация study с помощью Optuna\n",
    "study = optuna.create_study(direction='maximize')\n",
    "study.optimize(objective, n_trials=100)\n",
    "\n",
    "# Вывод наилучшего значения метрики после кросс-валидации\n",
    "best_score = study.best_value\n",
    "print(\"Наилучшее значение метрики (ROC AUC) после кросс-валидации:\", best_score)\n",
    "\n",
    "# Лучшая модель\n",
    "best_params = study.best_params\n",
    "classifier_name = best_params['classifier']\n",
    "if classifier_name == 'CatBoostClassifier':\n",
    "    learning_rate = best_params['learning_rate']\n",
    "    max_depth = best_params['max_depth']\n",
    "    min_data_in_leaf = best_params['min_data_in_leaf']\n",
    "    n_estimators = best_params['n_estimators']\n",
    "    classifier = CatBoostClassifier(learning_rate=learning_rate, max_depth=max_depth, min_data_in_leaf=min_data_in_leaf, \n",
    "                                    n_estimators=n_estimators, random_state=seed, silent=True)\n",
    "\n",
    "elif classifier_name == 'LGBMClassifier':\n",
    "    learning_rate = best_params['learning_rate']\n",
    "    max_depth = best_params['max_depth']\n",
    "    min_child_samples = best_params['min_child_samples']\n",
    "    n_estimators = best_params['n_estimators']\n",
    "    classifier = LGBMClassifier(learning_rate=learning_rate, max_depth=max_depth, min_child_samples=min_child_samples, \n",
    "                                n_estimators=n_estimators, random_state=seed, silent=True)\n",
    "\n",
    "elif classifier_name == 'XGBClassifier':\n",
    "    learning_rate = best_params['learning_rate']\n",
    "    max_depth = best_params['max_depth']\n",
    "    min_child_weight = best_params['min_child_weight']\n",
    "    n_estimators = best_params['n_estimators']\n",
    "    classifier = XGBClassifier(learning_rate=learning_rate, max_depth=max_depth, min_child_weight=min_child_weight, \n",
    "                               n_estimators=n_estimators, random_state=seed)\n",
    "\n",
    "# Обучение лучшей модели на полном тренировочном наборе данных\n",
    "X_train_resampled, y_train_resampled = balancer.fit_resample(X_train_std, y_train)\n",
    "classifier.fit(X_train_resampled, y_train_resampled)\n",
    "y_pred = classifier.predict(X_test_std)\n",
    "y_pred_train = classifier.predict(X_train_std)\n",
    "\n",
    "# Вывод значения метрики для лучшей модели после обучения\n",
    "roc_auc_test = roc_auc_score(y_test, y_pred)\n",
    "\n",
    "print(\"Значение метрики (ROC AUC) после обучения на всем тренировочном наборе данных:\", roc_auc_test)\n",
    "print(\"Лучший классификатор:\", classifier_name)\n",
    "print(\"Лучшие параметры:\", best_params)\n",
    "print(f'Число верно классифицированных случаев: {(y_test == y_pred).sum()} из {X_test_std.shape[0]}')"
   ]
  },
  {
   "cell_type": "markdown",
   "id": "f32d480b-c066-492f-a31a-e92787139ddb",
   "metadata": {},
   "source": [
    "### 6. Метрики"
   ]
  },
  {
   "cell_type": "code",
   "execution_count": 18,
   "id": "9ce53d29-0ef9-4b80-aa43-c808b96b7975",
   "metadata": {
    "tags": []
   },
   "outputs": [
    {
     "name": "stdout",
     "output_type": "stream",
     "text": [
      "Accuracy Train: 0.986\n",
      "Accuracy Test: 0.982\n",
      "\n",
      "Precision Train: 0.787\n",
      "Precision Test: 0.803\n",
      "\n",
      "Recall Train: 1.0\n",
      "Recall Test: 0.866\n",
      "\n",
      "F1 Train: 0.881\n",
      "F1 Test: 0.833\n",
      "\n"
     ]
    }
   ],
   "source": [
    "print(f'Accuracy Train: {accuracy_score(y_train, y_pred_train).round(3)}')\n",
    "print(f'Accuracy Test: {accuracy_score(y_test, y_pred).round(3)}\\n')\n",
    "print(f'Precision Train: {precision_score(y_train, y_pred_train).round(3)}')\n",
    "print(f'Precision Test: {precision_score(y_test, y_pred).round(3)}\\n')\n",
    "print(f'Recall Train: {recall_score(y_train, y_pred_train).round(3)}')\n",
    "print(f'Recall Test: {recall_score(y_test, y_pred).round(3)}\\n')\n",
    "print(f'F1 Train: {f1_score(y_train, y_pred_train).round(3)}')\n",
    "print(f'F1 Test: {f1_score(y_test, y_pred).round(3)}\\n')"
   ]
  },
  {
   "cell_type": "markdown",
   "id": "46c3af80",
   "metadata": {},
   "source": [
    "### 7. Матрица ошибок (Confusion Matrix)"
   ]
  },
  {
   "cell_type": "code",
   "execution_count": 19,
   "id": "5677400d-59f8-49c0-9304-eea3412c5be1",
   "metadata": {
    "tags": []
   },
   "outputs": [
    {
     "data": {
      "image/png": "[encoded data removed]",
      "text/plain": [
       "<Figure size 400x300 with 2 Axes>"
      ]
     },
     "metadata": {},
     "output_type": "display_data"
    }
   ],
   "source": [
    "cm = confusion_matrix(y_test, y_pred)\n",
    "cm_flipped = cm.copy()\n",
    "cm_flipped[0, 0], cm_flipped[1, 1] = cm[1, 1], cm[0, 0]\n",
    "cm_display = ConfusionMatrixDisplay(cm_flipped, display_labels=classifier.classes_)\n",
    "fig, ax = plt.subplots(figsize=(4, 3))\n",
    "cm_display.plot(ax=ax, cmap='Blues')\n",
    "# Получение текущих значений меток осей\n",
    "tick_labels_x = ax.get_xticklabels()\n",
    "tick_values_x = ax.get_xticks()\n",
    "tick_labels_y = ax.get_yticklabels()\n",
    "tick_values_y = ax.get_yticks()\n",
    "# Изменение меток и подписей осей\n",
    "ax.set_xticks(tick_values_x)\n",
    "ax.set_xticklabels('1' if label.get_text() == '0' else '0' for label in tick_labels_x)\n",
    "ax.set_yticks(tick_values_y)\n",
    "ax.set_yticklabels('1' if label.get_text() == '0' else '0' for label in tick_labels_y)\n",
    "plt.xlabel('True Label')\n",
    "plt.ylabel('Predicted Label')\n",
    "plt.show()\n"
   ]
  },
  {
   "cell_type": "markdown",
   "id": "aaa1fb0a",
   "metadata": {},
   "source": [
    "### 8. График ROC-AUC"
   ]
  },
  {
   "cell_type": "code",
   "execution_count": 21,
   "id": "de8b1f6e",
   "metadata": {},
   "outputs": [
    {
     "name": "stdout",
     "output_type": "stream",
     "text": [
      "ROC-AUC Train: 0.99709\n",
      "ROC-AUC Test: 0.9469\n"
     ]
    },
    {
     "data": {
      "image/png": "[encoded data removed]",
      "text/plain": [
       "<Figure size 640x480 with 1 Axes>"
      ]
     },
     "metadata": {},
     "output_type": "display_data"
    }
   ],
   "source": [
    "y_pred_train_score = classifier.predict_proba(X_train_std)\n",
    "y_pred_score = classifier.predict_proba(X_test_std)\n",
    "roc_auc_train = roc_auc_score(y_train, y_pred_train_score[:,1])\n",
    "roc_auc_test = roc_auc_score(y_test, y_pred_score[:,1])\n",
    "\n",
    "print(f'ROC-AUC Train: {roc_auc_train.round(5)}')\n",
    "print(f'ROC-AUC Test: {roc_auc_test.round(5)}')\n",
    "\n",
    "# Создание общей области для графиков\n",
    "fig, ax = plt.subplots()\n",
    "\n",
    "# ROC-кривая для обучающей выборки\n",
    "y_pred_proba_train = classifier.predict_proba(X_train_std)[:, 1]\n",
    "fpr_train, tpr_train, _ = roc_curve(y_train, y_pred_proba_train)\n",
    "roc_display_train = RocCurveDisplay(fpr=fpr_train, tpr=tpr_train, estimator_name=f\"{classifier_name} Train (ROC-AUC: {roc_auc_train:.3f})\")\n",
    "roc_display_train.plot(ax=ax)\n",
    "\n",
    "# ROC-кривая для тестовой выборки\n",
    "y_pred_proba_test = classifier.predict_proba(X_test_std)[:, 1]\n",
    "fpr_test, tpr_test, _ = roc_curve(y_test, y_pred_proba_test)\n",
    "roc_display_test = RocCurveDisplay(fpr=fpr_test, tpr=tpr_test, estimator_name=f\"{classifier_name} Test  (ROC-AUC: {roc_auc_test:.3f})\")\n",
    "roc_display_test.plot(ax=ax)\n",
    "\n",
    "ax.set_title('Receiver Operating Characteristic (ROC)')\n",
    "ax.legend(loc='lower right')  # Перемещение легенды в правый нижний угол\n",
    "plt.plot([0, 1], [0, 1], \"k--\")\n",
    "ax.grid(True)  # Добавление линий сетки\n",
    "plt.show()"
   ]
  }
 ],
 "metadata": {
  "kernelspec": {
   "display_name": "Python 3 (ipykernel)",
   "language": "python",
   "name": "python3"
  },
  "language_info": {
   "codemirror_mode": {
    "name": "ipython",
    "version": 3
   },
   "file_extension": ".py",
   "mimetype": "text/x-python",
   "name": "python",
   "nbconvert_exporter": "python",
   "pygments_lexer": "ipython3",
   "version": "3.11.3"
  }
 },
 "nbformat": 4,
 "nbformat_minor": 5
}
